{
 "cells": [
  {
   "cell_type": "markdown",
   "id": "prepared-filing",
   "metadata": {},
   "source": [
    "\n",
    "# Crowd Anomaly Detection\n",
    "\n",
    "We will create a mini project as a personal approach to the [Anomaly Detection in Crowds using Multi Sensory Information](https://ieeexplore.ieee.org/document/8639151),that is a classification procedure of crowd behavior based on movement patterns of the group as a whole.  \n",
    "Here we will re-create the procedured on data provided by the [UCI Machine Learning Repository](https://archive-beta.ics.uci.edu/ml/datasets/smartphone+dataset+for+anomaly+detection+in+crowds) as educational means to improve our understanding of Machine Learning applications and their evaluation. Towards this end we will evaluate the perfomance of different classification algorithms based by their classification accuracy, as the number of cases correctly predicted as 'anomaly'.\n",
    "\n",
    "\n",
    "There are some assumptions and caveats that need to be considered:\n",
    "- We dont evaluate a specific manufacturer and the perfomance of their hardware for collecting the data.\n",
    "- Individuals do not try to modify their movement pattern to obscure their activity, thus minimizing bias.\n",
    "- The classification of an observed event as 'anomaly' does not signify malicious or similar intents. Classification is based solely upon movement cohersion as a group.\n",
    "- Imputation of possibly movement pattern will be performed by substituting for 'linear' movement as considere the most common pattern occuring, independent of intention."
   ]
  },
  {
   "cell_type": "markdown",
   "id": "3969e672",
   "metadata": {},
   "source": []
  }
 ],
 "metadata": {
  "kernelspec": {
   "display_name": "venv",
   "language": "python",
   "name": "venv"
  },
  "language_info": {
   "codemirror_mode": {
    "name": "ipython",
    "version": 3
   },
   "file_extension": ".py",
   "mimetype": "text/x-python",
   "name": "python",
   "nbconvert_exporter": "python",
   "pygments_lexer": "ipython3",
   "version": "3.9.5"
  }
 },
 "nbformat": 4,
 "nbformat_minor": 5
}
